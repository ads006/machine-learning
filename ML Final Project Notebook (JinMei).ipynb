{
 "cells": [
  {
   "cell_type": "markdown",
   "metadata": {},
   "source": [
    "## ML Final Project"
   ]
  },
  {
   "cell_type": "markdown",
   "metadata": {},
   "source": [
    "**Scenario:** You work at a multinational bank that is aiming to increase it's market share in \n",
    "Europe. Recently, it has been noticed that the number of customers using the banking \n",
    "services has declined, and the bank is worried that existing customers have stopped \n",
    "using them as their main bank. <br> \n",
    "\n",
    "As a data scientist, you are tasked with finding out the \n",
    "reasons behind customer churn (when a customer stops using them as the main bank) and to predict customer churn. <br> \n",
    "\n",
    "The marketing team, \n",
    "in particular, is interested in your findings and want to better understand existing \n",
    "customer behavior and possibly predict customer churn. Your results will help the \n",
    "marketing team to use their budget wisely to target potential churners. To achieve \n",
    "this objective, in this exercise, you will import the banking data (Churn_Modelling.csv) \n",
    "provided by the bank and do some machine learning to solve their problem."
   ]
  },
  {
   "cell_type": "markdown",
   "metadata": {},
   "source": [
    "Data dictionary\n",
    "\n",
    "- CustomerID: Unique ID of each customer\n",
    "- CredRate: Credit Score of the customer \n",
    "- Geography: Country customer is from \n",
    "- Gender\n",
    "- Age\n",
    "- Tenure: How long customer has been with bank \n",
    "- Prod Number: Number of products customer has with bank \n",
    "- HasCrCard: Does customer have credit card\n",
    "- ActMem: Is customer active member \n",
    "- Estimated salary: Annual estimated salary of customer \n",
    "- Exited: Whether customer has churned (1 is yes)"
   ]
  },
  {
   "cell_type": "markdown",
   "metadata": {},
   "source": [
    "### Introduction \n",
    "\n",
    "Customer churn is a tendency of customers stop or abandon a brand/product/services. \n",
    "In this project, I will build a classification machine learning model to predict whether the customer will churn or not by classifying the instance into 0 (did not exit) and 1 (exit).  "
   ]
  },
  {
   "cell_type": "markdown",
   "metadata": {},
   "source": [
    "### Importing the Libraries"
   ]
  },
  {
   "cell_type": "code",
   "execution_count": 1,
   "metadata": {},
   "outputs": [],
   "source": [
    "import pandas as pd \n",
    "import matplotlib.pyplot as plt\n",
    "\n",
    "from sklearn.compose import ColumnTransformer\n",
    "from sklearn.preprocessing import StandardScaler\n",
    "from sklearn.model_selection import train_test_split\n",
    "from sklearn.preprocessing import LabelEncoder, OneHotEncoder\n",
    "from sklearn.metrics import accuracy_score, plot_confusion_matrix\n",
    "\n",
    "from sklearn.svm import SVC\n",
    "from sklearn.naive_bayes import GaussianNB \n",
    "from sklearn.tree import DecisionTreeClassifier\n",
    "from sklearn.ensemble import RandomForestClassifier\n"
   ]
  },
  {
   "cell_type": "markdown",
   "metadata": {},
   "source": [
    "### Loading the Data"
   ]
  },
  {
   "cell_type": "code",
   "execution_count": 2,
   "metadata": {},
   "outputs": [],
   "source": [
    "dataset = pd.read_csv('Churn_Modelling.csv')"
   ]
  },
  {
   "cell_type": "markdown",
   "metadata": {},
   "source": [
    "### Exploring the Data "
   ]
  },
  {
   "cell_type": "code",
   "execution_count": 3,
   "metadata": {},
   "outputs": [
    {
     "data": {
      "text/html": [
       "<div>\n",
       "<style scoped>\n",
       "    .dataframe tbody tr th:only-of-type {\n",
       "        vertical-align: middle;\n",
       "    }\n",
       "\n",
       "    .dataframe tbody tr th {\n",
       "        vertical-align: top;\n",
       "    }\n",
       "\n",
       "    .dataframe thead th {\n",
       "        text-align: right;\n",
       "    }\n",
       "</style>\n",
       "<table border=\"1\" class=\"dataframe\">\n",
       "  <thead>\n",
       "    <tr style=\"text-align: right;\">\n",
       "      <th></th>\n",
       "      <th>CustomerId</th>\n",
       "      <th>CredRate</th>\n",
       "      <th>Geography</th>\n",
       "      <th>Gender</th>\n",
       "      <th>Age</th>\n",
       "      <th>Tenure</th>\n",
       "      <th>Balance</th>\n",
       "      <th>Prod Number</th>\n",
       "      <th>HasCrCard</th>\n",
       "      <th>ActMem</th>\n",
       "      <th>EstimatedSalary</th>\n",
       "      <th>Exited</th>\n",
       "    </tr>\n",
       "  </thead>\n",
       "  <tbody>\n",
       "    <tr>\n",
       "      <th>0</th>\n",
       "      <td>15634602</td>\n",
       "      <td>619</td>\n",
       "      <td>France</td>\n",
       "      <td>Female</td>\n",
       "      <td>42.0</td>\n",
       "      <td>2</td>\n",
       "      <td>0.00</td>\n",
       "      <td>1</td>\n",
       "      <td>1</td>\n",
       "      <td>1</td>\n",
       "      <td>101348.88</td>\n",
       "      <td>1</td>\n",
       "    </tr>\n",
       "    <tr>\n",
       "      <th>1</th>\n",
       "      <td>15647311</td>\n",
       "      <td>608</td>\n",
       "      <td>Spain</td>\n",
       "      <td>Female</td>\n",
       "      <td>41.0</td>\n",
       "      <td>1</td>\n",
       "      <td>83807.86</td>\n",
       "      <td>1</td>\n",
       "      <td>0</td>\n",
       "      <td>1</td>\n",
       "      <td>112542.58</td>\n",
       "      <td>0</td>\n",
       "    </tr>\n",
       "    <tr>\n",
       "      <th>2</th>\n",
       "      <td>15619304</td>\n",
       "      <td>502</td>\n",
       "      <td>France</td>\n",
       "      <td>Female</td>\n",
       "      <td>42.0</td>\n",
       "      <td>8</td>\n",
       "      <td>159660.80</td>\n",
       "      <td>3</td>\n",
       "      <td>1</td>\n",
       "      <td>0</td>\n",
       "      <td>113931.57</td>\n",
       "      <td>1</td>\n",
       "    </tr>\n",
       "    <tr>\n",
       "      <th>3</th>\n",
       "      <td>15701354</td>\n",
       "      <td>699</td>\n",
       "      <td>France</td>\n",
       "      <td>Female</td>\n",
       "      <td>39.0</td>\n",
       "      <td>1</td>\n",
       "      <td>0.00</td>\n",
       "      <td>2</td>\n",
       "      <td>0</td>\n",
       "      <td>0</td>\n",
       "      <td>93826.63</td>\n",
       "      <td>0</td>\n",
       "    </tr>\n",
       "    <tr>\n",
       "      <th>4</th>\n",
       "      <td>15737888</td>\n",
       "      <td>850</td>\n",
       "      <td>Spain</td>\n",
       "      <td>Female</td>\n",
       "      <td>43.0</td>\n",
       "      <td>2</td>\n",
       "      <td>125510.82</td>\n",
       "      <td>1</td>\n",
       "      <td>1</td>\n",
       "      <td>1</td>\n",
       "      <td>79084.10</td>\n",
       "      <td>0</td>\n",
       "    </tr>\n",
       "  </tbody>\n",
       "</table>\n",
       "</div>"
      ],
      "text/plain": [
       "   CustomerId  CredRate Geography  Gender   Age  Tenure    Balance  \\\n",
       "0    15634602       619    France  Female  42.0       2       0.00   \n",
       "1    15647311       608     Spain  Female  41.0       1   83807.86   \n",
       "2    15619304       502    France  Female  42.0       8  159660.80   \n",
       "3    15701354       699    France  Female  39.0       1       0.00   \n",
       "4    15737888       850     Spain  Female  43.0       2  125510.82   \n",
       "\n",
       "   Prod Number  HasCrCard  ActMem  EstimatedSalary  Exited  \n",
       "0            1          1       1        101348.88       1  \n",
       "1            1          0       1        112542.58       0  \n",
       "2            3          1       0        113931.57       1  \n",
       "3            2          0       0         93826.63       0  \n",
       "4            1          1       1         79084.10       0  "
      ]
     },
     "execution_count": 3,
     "metadata": {},
     "output_type": "execute_result"
    }
   ],
   "source": [
    "dataset.head()"
   ]
  },
  {
   "cell_type": "code",
   "execution_count": 4,
   "metadata": {},
   "outputs": [
    {
     "name": "stdout",
     "output_type": "stream",
     "text": [
      "<class 'pandas.core.frame.DataFrame'>\n",
      "RangeIndex: 10000 entries, 0 to 9999\n",
      "Data columns (total 12 columns):\n",
      " #   Column           Non-Null Count  Dtype  \n",
      "---  ------           --------------  -----  \n",
      " 0   CustomerId       10000 non-null  int64  \n",
      " 1   CredRate         10000 non-null  int64  \n",
      " 2   Geography        10000 non-null  object \n",
      " 3   Gender           9996 non-null   object \n",
      " 4   Age              9994 non-null   float64\n",
      " 5   Tenure           10000 non-null  int64  \n",
      " 6   Balance          10000 non-null  float64\n",
      " 7   Prod Number      10000 non-null  int64  \n",
      " 8   HasCrCard        10000 non-null  int64  \n",
      " 9   ActMem           10000 non-null  int64  \n",
      " 10  EstimatedSalary  9996 non-null   float64\n",
      " 11  Exited           10000 non-null  int64  \n",
      "dtypes: float64(3), int64(7), object(2)\n",
      "memory usage: 937.6+ KB\n"
     ]
    }
   ],
   "source": [
    "dataset.info()"
   ]
  },
  {
   "cell_type": "code",
   "execution_count": 5,
   "metadata": {},
   "outputs": [
    {
     "data": {
      "text/html": [
       "<div>\n",
       "<style scoped>\n",
       "    .dataframe tbody tr th:only-of-type {\n",
       "        vertical-align: middle;\n",
       "    }\n",
       "\n",
       "    .dataframe tbody tr th {\n",
       "        vertical-align: top;\n",
       "    }\n",
       "\n",
       "    .dataframe thead th {\n",
       "        text-align: right;\n",
       "    }\n",
       "</style>\n",
       "<table border=\"1\" class=\"dataframe\">\n",
       "  <thead>\n",
       "    <tr style=\"text-align: right;\">\n",
       "      <th></th>\n",
       "      <th>CustomerId</th>\n",
       "      <th>CredRate</th>\n",
       "      <th>Age</th>\n",
       "      <th>Tenure</th>\n",
       "      <th>Balance</th>\n",
       "      <th>Prod Number</th>\n",
       "      <th>HasCrCard</th>\n",
       "      <th>ActMem</th>\n",
       "      <th>EstimatedSalary</th>\n",
       "      <th>Exited</th>\n",
       "    </tr>\n",
       "  </thead>\n",
       "  <tbody>\n",
       "    <tr>\n",
       "      <th>count</th>\n",
       "      <td>1.000000e+04</td>\n",
       "      <td>10000.000000</td>\n",
       "      <td>9994.000000</td>\n",
       "      <td>10000.000000</td>\n",
       "      <td>10000.000000</td>\n",
       "      <td>10000.000000</td>\n",
       "      <td>10000.00000</td>\n",
       "      <td>10000.000000</td>\n",
       "      <td>9996.000000</td>\n",
       "      <td>10000.000000</td>\n",
       "    </tr>\n",
       "    <tr>\n",
       "      <th>mean</th>\n",
       "      <td>1.569094e+07</td>\n",
       "      <td>650.528800</td>\n",
       "      <td>38.925255</td>\n",
       "      <td>5.012800</td>\n",
       "      <td>76485.889288</td>\n",
       "      <td>1.530200</td>\n",
       "      <td>0.70550</td>\n",
       "      <td>0.515100</td>\n",
       "      <td>100074.744083</td>\n",
       "      <td>0.203700</td>\n",
       "    </tr>\n",
       "    <tr>\n",
       "      <th>std</th>\n",
       "      <td>7.193619e+04</td>\n",
       "      <td>96.653299</td>\n",
       "      <td>10.489248</td>\n",
       "      <td>2.892174</td>\n",
       "      <td>62397.405202</td>\n",
       "      <td>0.581654</td>\n",
       "      <td>0.45584</td>\n",
       "      <td>0.499797</td>\n",
       "      <td>57515.774555</td>\n",
       "      <td>0.402769</td>\n",
       "    </tr>\n",
       "    <tr>\n",
       "      <th>min</th>\n",
       "      <td>1.556570e+07</td>\n",
       "      <td>350.000000</td>\n",
       "      <td>18.000000</td>\n",
       "      <td>0.000000</td>\n",
       "      <td>0.000000</td>\n",
       "      <td>1.000000</td>\n",
       "      <td>0.00000</td>\n",
       "      <td>0.000000</td>\n",
       "      <td>11.580000</td>\n",
       "      <td>0.000000</td>\n",
       "    </tr>\n",
       "    <tr>\n",
       "      <th>25%</th>\n",
       "      <td>1.562853e+07</td>\n",
       "      <td>584.000000</td>\n",
       "      <td>32.000000</td>\n",
       "      <td>3.000000</td>\n",
       "      <td>0.000000</td>\n",
       "      <td>1.000000</td>\n",
       "      <td>0.00000</td>\n",
       "      <td>0.000000</td>\n",
       "      <td>50974.077500</td>\n",
       "      <td>0.000000</td>\n",
       "    </tr>\n",
       "    <tr>\n",
       "      <th>50%</th>\n",
       "      <td>1.569074e+07</td>\n",
       "      <td>652.000000</td>\n",
       "      <td>37.000000</td>\n",
       "      <td>5.000000</td>\n",
       "      <td>97198.540000</td>\n",
       "      <td>1.000000</td>\n",
       "      <td>1.00000</td>\n",
       "      <td>1.000000</td>\n",
       "      <td>100168.240000</td>\n",
       "      <td>0.000000</td>\n",
       "    </tr>\n",
       "    <tr>\n",
       "      <th>75%</th>\n",
       "      <td>1.575323e+07</td>\n",
       "      <td>718.000000</td>\n",
       "      <td>44.000000</td>\n",
       "      <td>7.000000</td>\n",
       "      <td>127644.240000</td>\n",
       "      <td>2.000000</td>\n",
       "      <td>1.00000</td>\n",
       "      <td>1.000000</td>\n",
       "      <td>149388.247500</td>\n",
       "      <td>0.000000</td>\n",
       "    </tr>\n",
       "    <tr>\n",
       "      <th>max</th>\n",
       "      <td>1.581569e+07</td>\n",
       "      <td>850.000000</td>\n",
       "      <td>92.000000</td>\n",
       "      <td>10.000000</td>\n",
       "      <td>250898.090000</td>\n",
       "      <td>4.000000</td>\n",
       "      <td>1.00000</td>\n",
       "      <td>1.000000</td>\n",
       "      <td>199992.480000</td>\n",
       "      <td>1.000000</td>\n",
       "    </tr>\n",
       "  </tbody>\n",
       "</table>\n",
       "</div>"
      ],
      "text/plain": [
       "         CustomerId      CredRate          Age        Tenure        Balance  \\\n",
       "count  1.000000e+04  10000.000000  9994.000000  10000.000000   10000.000000   \n",
       "mean   1.569094e+07    650.528800    38.925255      5.012800   76485.889288   \n",
       "std    7.193619e+04     96.653299    10.489248      2.892174   62397.405202   \n",
       "min    1.556570e+07    350.000000    18.000000      0.000000       0.000000   \n",
       "25%    1.562853e+07    584.000000    32.000000      3.000000       0.000000   \n",
       "50%    1.569074e+07    652.000000    37.000000      5.000000   97198.540000   \n",
       "75%    1.575323e+07    718.000000    44.000000      7.000000  127644.240000   \n",
       "max    1.581569e+07    850.000000    92.000000     10.000000  250898.090000   \n",
       "\n",
       "        Prod Number    HasCrCard        ActMem  EstimatedSalary        Exited  \n",
       "count  10000.000000  10000.00000  10000.000000      9996.000000  10000.000000  \n",
       "mean       1.530200      0.70550      0.515100    100074.744083      0.203700  \n",
       "std        0.581654      0.45584      0.499797     57515.774555      0.402769  \n",
       "min        1.000000      0.00000      0.000000        11.580000      0.000000  \n",
       "25%        1.000000      0.00000      0.000000     50974.077500      0.000000  \n",
       "50%        1.000000      1.00000      1.000000    100168.240000      0.000000  \n",
       "75%        2.000000      1.00000      1.000000    149388.247500      0.000000  \n",
       "max        4.000000      1.00000      1.000000    199992.480000      1.000000  "
      ]
     },
     "execution_count": 5,
     "metadata": {},
     "output_type": "execute_result"
    }
   ],
   "source": [
    "dataset.describe()"
   ]
  },
  {
   "cell_type": "code",
   "execution_count": 6,
   "metadata": {},
   "outputs": [
    {
     "data": {
      "text/html": [
       "<div>\n",
       "<style scoped>\n",
       "    .dataframe tbody tr th:only-of-type {\n",
       "        vertical-align: middle;\n",
       "    }\n",
       "\n",
       "    .dataframe tbody tr th {\n",
       "        vertical-align: top;\n",
       "    }\n",
       "\n",
       "    .dataframe thead th {\n",
       "        text-align: right;\n",
       "    }\n",
       "</style>\n",
       "<table border=\"1\" class=\"dataframe\">\n",
       "  <thead>\n",
       "    <tr style=\"text-align: right;\">\n",
       "      <th></th>\n",
       "      <th>Geography</th>\n",
       "      <th>Gender</th>\n",
       "    </tr>\n",
       "  </thead>\n",
       "  <tbody>\n",
       "    <tr>\n",
       "      <th>count</th>\n",
       "      <td>10000</td>\n",
       "      <td>9996</td>\n",
       "    </tr>\n",
       "    <tr>\n",
       "      <th>unique</th>\n",
       "      <td>3</td>\n",
       "      <td>2</td>\n",
       "    </tr>\n",
       "    <tr>\n",
       "      <th>top</th>\n",
       "      <td>France</td>\n",
       "      <td>Male</td>\n",
       "    </tr>\n",
       "    <tr>\n",
       "      <th>freq</th>\n",
       "      <td>5014</td>\n",
       "      <td>5453</td>\n",
       "    </tr>\n",
       "  </tbody>\n",
       "</table>\n",
       "</div>"
      ],
      "text/plain": [
       "       Geography Gender\n",
       "count      10000   9996\n",
       "unique         3      2\n",
       "top       France   Male\n",
       "freq        5014   5453"
      ]
     },
     "execution_count": 6,
     "metadata": {},
     "output_type": "execute_result"
    }
   ],
   "source": [
    "dataset.describe(include = ['object'])"
   ]
  },
  {
   "cell_type": "code",
   "execution_count": 7,
   "metadata": {},
   "outputs": [
    {
     "data": {
      "image/png": "[encoded data removed]",
      "text/plain": [
       "<Figure size 720x576 with 1 Axes>"
      ]
     },
     "metadata": {
      "needs_background": "light"
     },
     "output_type": "display_data"
    }
   ],
   "source": [
    "# histogram for credit rate column values\n",
    "plt.figure(figsize = (10, 8))\n",
    "plt.hist(dataset['CredRate'], facecolor = 'g', alpha = 0.5)\n",
    "plt.title('Histogram of Customers Credit Rate in Bank Account')\n",
    "plt.xlabel('Credit Rate', fontsize = 14)\n",
    "plt.ylabel('Frequency', fontsize = 14)\n",
    "plt.text(780, 1950, 'Mean = ' + str(dataset['CredRate'].mean()))\n",
    "plt.show()"
   ]
  },
  {
   "cell_type": "markdown",
   "metadata": {},
   "source": [
    "From the above figure, the Credit Score of the customer is spread between 350 to 850 score and it's average score is 650."
   ]
  },
  {
   "cell_type": "code",
   "execution_count": 8,
   "metadata": {},
   "outputs": [
    {
     "data": {
      "text/plain": [
       "France     5014\n",
       "Germany    2509\n",
       "Spain      2477\n",
       "Name: Geography, dtype: int64"
      ]
     },
     "execution_count": 8,
     "metadata": {},
     "output_type": "execute_result"
    }
   ],
   "source": [
    "# geography column values count\n",
    "dataset['Geography'].value_counts()"
   ]
  },
  {
   "cell_type": "code",
   "execution_count": 9,
   "metadata": {},
   "outputs": [
    {
     "data": {
      "text/plain": [
       "Male      5453\n",
       "Female    4543\n",
       "Name: Gender, dtype: int64"
      ]
     },
     "execution_count": 9,
     "metadata": {},
     "output_type": "execute_result"
    }
   ],
   "source": [
    "# gender column values count\n",
    "dataset['Gender'].value_counts()"
   ]
  },
  {
   "cell_type": "code",
   "execution_count": 10,
   "metadata": {},
   "outputs": [
    {
     "data": {
      "image/png": "[encoded data removed]",
      "text/plain": [
       "<Figure size 720x576 with 1 Axes>"
      ]
     },
     "metadata": {
      "needs_background": "light"
     },
     "output_type": "display_data"
    }
   ],
   "source": [
    "# histogram for balance column values\n",
    "plt.figure(figsize = (10, 8))\n",
    "plt.hist(dataset['Balance'], facecolor = 'g', alpha = 0.5)\n",
    "plt.title('Histogram of Customers Balance in Bank Account')\n",
    "plt.xlabel('Balance', fontsize = 14)\n",
    "plt.ylabel('Frequency', fontsize = 14)\n",
    "plt.text(187000, 3600, 'Mean = ' + str(dataset['Balance'].mean()))\n",
    "plt.show()"
   ]
  },
  {
   "cell_type": "markdown",
   "metadata": {},
   "source": [
    "From the above figure, the Balance is almost spread between 0 to 250000 and the average is around 76500."
   ]
  },
  {
   "cell_type": "code",
   "execution_count": 11,
   "metadata": {},
   "outputs": [
    {
     "data": {
      "image/png": "[encoded data removed]",
      "text/plain": [
       "<Figure size 864x432 with 1 Axes>"
      ]
     },
     "metadata": {
      "needs_background": "light"
     },
     "output_type": "display_data"
    }
   ],
   "source": [
    "# bar plot for product number column values distribution\n",
    "plt.figure(figsize = (12, 6))\n",
    "plt.title('Bank Products Distribution')\n",
    "plt.xlabel('Product Number', fontsize = 14)\n",
    "plt.ylabel('Frequency', fontsize = 14)\n",
    "dataset['Prod Number'].value_counts().plot(kind = 'bar', width = 0.3, rot = 0)\n",
    "plt.show()"
   ]
  },
  {
   "cell_type": "code",
   "execution_count": 12,
   "metadata": {},
   "outputs": [
    {
     "data": {
      "image/png": "[encoded data removed]",
      "text/plain": [
       "<Figure size 1152x432 with 2 Axes>"
      ]
     },
     "metadata": {},
     "output_type": "display_data"
    }
   ],
   "source": [
    "# define the figure and subplots\n",
    "fig, axs = plt.subplots(nrows = 1, ncols = 2)\n",
    "fig.set_size_inches(16, 6, forward = True)\n",
    "\n",
    "# pie chart of 'has credit card' distribution\n",
    "axs[0].pie(dataset['HasCrCard'].value_counts(), explode = (0, .03), autopct = '%1.1f%%', startangle = 90, \n",
    "           textprops = {'color': 'white', 'fontsize': 12})\n",
    "axs[0].legend(labels = ['Card', 'No Card'], loc = 'best')\n",
    "\n",
    "# pie chart of 'is active member' distribution\n",
    "axs[1].pie(dataset['ActMem'].value_counts(), autopct = '%1.1f%%', startangle = 90, \n",
    "           textprops = {'color': 'white', 'fontsize': 12})\n",
    "axs[1].legend(labels = ['Active', 'Not Active'], loc = 'best')\n",
    "\n",
    "plt.show()"
   ]
  },
  {
   "cell_type": "markdown",
   "metadata": {},
   "source": [
    "- From the first pie chart, **71%** customers have a credit card and **29%** do not have a credit card.\n",
    "- From the second pie chart, **51.5%** customers are active members and **48.5%** are not active members."
   ]
  },
  {
   "cell_type": "code",
   "execution_count": 13,
   "metadata": {},
   "outputs": [
    {
     "name": "stderr",
     "output_type": "stream",
     "text": [
      "C:\\Users\\jinme\\anaconda3\\lib\\site-packages\\numpy\\lib\\histograms.py:839: RuntimeWarning: invalid value encountered in greater_equal\n",
      "  keep = (tmp_a >= first_edge)\n",
      "C:\\Users\\jinme\\anaconda3\\lib\\site-packages\\numpy\\lib\\histograms.py:840: RuntimeWarning: invalid value encountered in less_equal\n",
      "  keep &= (tmp_a <= last_edge)\n"
     ]
    },
    {
     "data": {
      "image/png": "[encoded data removed]",
      "text/plain": [
       "<Figure size 720x576 with 1 Axes>"
      ]
     },
     "metadata": {
      "needs_background": "light"
     },
     "output_type": "display_data"
    }
   ],
   "source": [
    "# histogram for estimated salary column values\n",
    "plt.figure(figsize = (10, 8))\n",
    "plt.hist(dataset['EstimatedSalary'], facecolor = 'g', alpha = 0.5)\n",
    "plt.title('Histogram of Customer Estimated Salary')\n",
    "plt.xlabel('Estimated Salary', fontsize = 14)\n",
    "plt.ylabel('Frequency', fontsize = 14)\n",
    "plt.text(145000, 1040, 'Mean = ' + str(dataset['EstimatedSalary'].mean()))\n",
    "plt.show()"
   ]
  },
  {
   "cell_type": "markdown",
   "metadata": {},
   "source": [
    "From the above figure, the **Estimated Salary** is spread between 0 to 200000 and the average is **100000**."
   ]
  },
  {
   "cell_type": "markdown",
   "metadata": {},
   "source": [
    "### Class Distribution of Target column."
   ]
  },
  {
   "cell_type": "code",
   "execution_count": 14,
   "metadata": {},
   "outputs": [
    {
     "data": {
      "text/plain": [
       "0    7963\n",
       "1    2037\n",
       "Name: Exited, dtype: int64"
      ]
     },
     "execution_count": 14,
     "metadata": {},
     "output_type": "execute_result"
    }
   ],
   "source": [
    "dataset['Exited'].value_counts()"
   ]
  },
  {
   "cell_type": "code",
   "execution_count": 15,
   "metadata": {},
   "outputs": [
    {
     "data": {
      "image/png": "[encoded data removed]",
      "text/plain": [
       "<Figure size 1152x432 with 2 Axes>"
      ]
     },
     "metadata": {
      "needs_background": "light"
     },
     "output_type": "display_data"
    }
   ],
   "source": [
    "# target label distribution analysis through graphs\n",
    "\n",
    "# define the figure and subplots\n",
    "fig, axs = plt.subplots(nrows = 1, ncols = 2)\n",
    "fig.set_size_inches(16, 6, forward = True)\n",
    "\n",
    "# bar plot of target label distribution\n",
    "axs[0].set_title('Target Label Distribution')\n",
    "axs[0].set_ylabel('Frequency', fontsize = 14)\n",
    "dataset['Exited'].value_counts().plot(ax = axs[0], kind = 'bar', width = 0.1, rot = 0)\n",
    "\n",
    "# pie chart of target label distribution\n",
    "axs[1].pie(dataset['Exited'].value_counts(), explode = (0, .03), autopct = '%1.1f%%', startangle = 45, \n",
    "           textprops = {'color': 'white', 'fontsize': 12})\n",
    "axs[1].legend(labels = ['Not Exited', 'Exited'], loc = 'best')\n",
    "\n",
    "plt.show()"
   ]
  },
  {
   "cell_type": "markdown",
   "metadata": {},
   "source": [
    "From the above graphs, 80% of the customers did not churn and 20% had churned."
   ]
  },
  {
   "cell_type": "markdown",
   "metadata": {},
   "source": [
    "### Preprocessing the Data \n",
    "#### Missing Values Handling\n",
    "Let's first fill the missing values of **Gender** column. For this we will do the imputation using the mode i.e. each missing value will be replace by the mode of the column. We will replace the null values with the gender **Male** as it is more frequently occured."
   ]
  },
  {
   "cell_type": "code",
   "execution_count": 16,
   "metadata": {},
   "outputs": [],
   "source": [
    "dataset['Gender'].fillna(dataset['Gender'].value_counts().index[0], inplace = True)"
   ]
  },
  {
   "cell_type": "markdown",
   "metadata": {},
   "source": [
    "Now we will fill the missing values of **Age** column. For this we will do the imputation using the median i.e. each missing value will be replace by the median of the column."
   ]
  },
  {
   "cell_type": "code",
   "execution_count": 17,
   "metadata": {},
   "outputs": [],
   "source": [
    "dataset['Age'].fillna(dataset['Age'].median(), inplace = True)"
   ]
  },
  {
   "cell_type": "markdown",
   "metadata": {},
   "source": [
    "In the last, we will fill the missing values of **Estimated Salary** column. For this we will do the imputation using the mean i.e. each missing value will be replace by the mean of the column."
   ]
  },
  {
   "cell_type": "code",
   "execution_count": 18,
   "metadata": {},
   "outputs": [],
   "source": [
    "dataset['EstimatedSalary'].fillna(dataset['EstimatedSalary'].mean(), inplace = True)"
   ]
  },
  {
   "cell_type": "markdown",
   "metadata": {},
   "source": [
    "### Let's separate the features and target column values"
   ]
  },
  {
   "cell_type": "code",
   "execution_count": 19,
   "metadata": {},
   "outputs": [],
   "source": [
    "# features columns\n",
    "features = ['CredRate','Geography','Gender','Age','Tenure','Balance','Prod Number','HasCrCard','ActMem','EstimatedSalary']\n",
    "\n",
    "# target column\n",
    "target = ['Exited']\n",
    "\n",
    "# featues values\n",
    "X = dataset.loc[:, features].values\n",
    "\n",
    "# target label values\n",
    "y = dataset.loc[:, target].values"
   ]
  },
  {
   "cell_type": "markdown",
   "metadata": {},
   "source": [
    "### Categorical Values Handling\n",
    "\n",
    "Let's first encode the values of Gender column. This column has two categories (Male, Female).The label encoding is applied to assign numeric values."
   ]
  },
  {
   "cell_type": "code",
   "execution_count": 20,
   "metadata": {},
   "outputs": [],
   "source": [
    "# label encode\n",
    "le = LabelEncoder()\n",
    "X[:, 2] = le.fit_transform(X[:, 2])"
   ]
  },
  {
   "cell_type": "markdown",
   "metadata": {},
   "source": [
    "Now encode the values of Geography column. This column has three different categories (France, Germany, Spain). We will do this using one hot encoding to represent each category into a separate column. It is preferable to apply one hot encoding for categories greater than two."
   ]
  },
  {
   "cell_type": "code",
   "execution_count": 21,
   "metadata": {},
   "outputs": [],
   "source": [
    "# one hot encode\n",
    "ct = ColumnTransformer([('one_hot_encoder', OneHotEncoder(categories = 'auto'), [1])], remainder = 'passthrough')\n",
    "X = ct.fit_transform(X)\n",
    "\n",
    "# drop first (zero index) column to avoid dummy variable trap\n",
    "X = X[:, 1:]"
   ]
  },
  {
   "cell_type": "code",
   "execution_count": 22,
   "metadata": {},
   "outputs": [
    {
     "data": {
      "text/html": [
       "<div>\n",
       "<style scoped>\n",
       "    .dataframe tbody tr th:only-of-type {\n",
       "        vertical-align: middle;\n",
       "    }\n",
       "\n",
       "    .dataframe tbody tr th {\n",
       "        vertical-align: top;\n",
       "    }\n",
       "\n",
       "    .dataframe thead th {\n",
       "        text-align: right;\n",
       "    }\n",
       "</style>\n",
       "<table border=\"1\" class=\"dataframe\">\n",
       "  <thead>\n",
       "    <tr style=\"text-align: right;\">\n",
       "      <th></th>\n",
       "      <th>0</th>\n",
       "      <th>1</th>\n",
       "      <th>2</th>\n",
       "      <th>3</th>\n",
       "      <th>4</th>\n",
       "      <th>5</th>\n",
       "      <th>6</th>\n",
       "      <th>7</th>\n",
       "      <th>8</th>\n",
       "      <th>9</th>\n",
       "      <th>10</th>\n",
       "    </tr>\n",
       "  </thead>\n",
       "  <tbody>\n",
       "    <tr>\n",
       "      <th>0</th>\n",
       "      <td>0</td>\n",
       "      <td>0</td>\n",
       "      <td>619</td>\n",
       "      <td>0</td>\n",
       "      <td>42</td>\n",
       "      <td>2</td>\n",
       "      <td>0</td>\n",
       "      <td>1</td>\n",
       "      <td>1</td>\n",
       "      <td>1</td>\n",
       "      <td>101349</td>\n",
       "    </tr>\n",
       "    <tr>\n",
       "      <th>1</th>\n",
       "      <td>0</td>\n",
       "      <td>1</td>\n",
       "      <td>608</td>\n",
       "      <td>0</td>\n",
       "      <td>41</td>\n",
       "      <td>1</td>\n",
       "      <td>83807.9</td>\n",
       "      <td>1</td>\n",
       "      <td>0</td>\n",
       "      <td>1</td>\n",
       "      <td>112543</td>\n",
       "    </tr>\n",
       "    <tr>\n",
       "      <th>2</th>\n",
       "      <td>0</td>\n",
       "      <td>0</td>\n",
       "      <td>502</td>\n",
       "      <td>0</td>\n",
       "      <td>42</td>\n",
       "      <td>8</td>\n",
       "      <td>159661</td>\n",
       "      <td>3</td>\n",
       "      <td>1</td>\n",
       "      <td>0</td>\n",
       "      <td>113932</td>\n",
       "    </tr>\n",
       "    <tr>\n",
       "      <th>3</th>\n",
       "      <td>0</td>\n",
       "      <td>0</td>\n",
       "      <td>699</td>\n",
       "      <td>0</td>\n",
       "      <td>39</td>\n",
       "      <td>1</td>\n",
       "      <td>0</td>\n",
       "      <td>2</td>\n",
       "      <td>0</td>\n",
       "      <td>0</td>\n",
       "      <td>93826.6</td>\n",
       "    </tr>\n",
       "    <tr>\n",
       "      <th>4</th>\n",
       "      <td>0</td>\n",
       "      <td>1</td>\n",
       "      <td>850</td>\n",
       "      <td>0</td>\n",
       "      <td>43</td>\n",
       "      <td>2</td>\n",
       "      <td>125511</td>\n",
       "      <td>1</td>\n",
       "      <td>1</td>\n",
       "      <td>1</td>\n",
       "      <td>79084.1</td>\n",
       "    </tr>\n",
       "  </tbody>\n",
       "</table>\n",
       "</div>"
      ],
      "text/plain": [
       "   0  1    2  3   4  5        6  7  8  9       10\n",
       "0  0  0  619  0  42  2        0  1  1  1   101349\n",
       "1  0  1  608  0  41  1  83807.9  1  0  1   112543\n",
       "2  0  0  502  0  42  8   159661  3  1  0   113932\n",
       "3  0  0  699  0  39  1        0  2  0  0  93826.6\n",
       "4  0  1  850  0  43  2   125511  1  1  1  79084.1"
      ]
     },
     "execution_count": 22,
     "metadata": {},
     "output_type": "execute_result"
    }
   ],
   "source": [
    "# Head of the dataset after preprocessing\n",
    "pd.DataFrame(X).head()"
   ]
  },
  {
   "cell_type": "markdown",
   "metadata": {},
   "source": [
    "### Data Split into Train and Test Set\n",
    "Let's split the data into 70% for train and 30% for test set."
   ]
  },
  {
   "cell_type": "code",
   "execution_count": 23,
   "metadata": {},
   "outputs": [],
   "source": [
    "X_train, X_test, y_train, y_test = train_test_split(X, y, test_size = 0.3, random_state = 0)"
   ]
  },
  {
   "cell_type": "markdown",
   "metadata": {},
   "source": [
    "### Data Scaling\n",
    "Standardize the independent features present in the data in a fixed range."
   ]
  },
  {
   "cell_type": "code",
   "execution_count": 24,
   "metadata": {},
   "outputs": [],
   "source": [
    "scaler = StandardScaler()\n",
    "X_train = scaler.fit_transform(X_train)\n",
    "X_test = scaler.transform(X_test)"
   ]
  },
  {
   "cell_type": "markdown",
   "metadata": {},
   "source": [
    "### Machine Learning Modelling"
   ]
  },
  {
   "cell_type": "code",
   "execution_count": 25,
   "metadata": {},
   "outputs": [],
   "source": [
    "# models\n",
    "models = ['Naive Bayes', 'Decision Tree', 'Random Forest', 'SVM']\n",
    "\n",
    "# list to store accuracy values of all models\n",
    "accuracy_values = []"
   ]
  },
  {
   "cell_type": "markdown",
   "metadata": {},
   "source": [
    "#### Naive Bayes\n",
    "The first machine learning model that I build is Naive Bayes. It is a probabilistic machine learning model which is used for classification task. It is based on **Bayes Theorem** with an assumption of independence among predictors. In simple terms, a Naive Bayes classifier assumes that the presence of a particular feature in a class is unrelated to the presence of any other feature. It is easy and fast to predict the class of test data set. It performs well in case of categorical input variables as in our case we have two categorical input variables (Geography and Gender)."
   ]
  },
  {
   "cell_type": "code",
   "execution_count": 26,
   "metadata": {},
   "outputs": [
    {
     "name": "stderr",
     "output_type": "stream",
     "text": [
      "C:\\Users\\jinme\\anaconda3\\lib\\site-packages\\sklearn\\naive_bayes.py:206: DataConversionWarning: A column-vector y was passed when a 1d array was expected. Please change the shape of y to (n_samples, ), for example using ravel().\n",
      "  y = column_or_1d(y, warn=True)\n"
     ]
    }
   ],
   "source": [
    "# training the model\n",
    "model_1 = GaussianNB()\n",
    "model_1.fit(X_train, y_train)\n",
    "\n",
    "# testing the model \n",
    "y_pred = model_1.predict(X_test)\n",
    "\n",
    "# calculate the accuracy on test data\n",
    "accuracy_values.append(round(accuracy_score(y_test, y_pred) * 100, 2))"
   ]
  },
  {
   "cell_type": "markdown",
   "metadata": {},
   "source": [
    "#### Decision Tree\n",
    "The 2nd model that I build is the Decision Tree. Decision tree is one of the supervised machine learning algorithms. This algorithm can be used for regression and classification problems. It is mostly used for classification problems. A decision tree follows a set of if-then-else decision rules to visualize the data and classify it according to the conditions. <br><br>  Decision tree builds classification or regression models in the form of a tree structure. It breaks down a data set into smaller and smaller subsets while at the same time an associated decision tree is incrementally developed. The final result is a tree with decision nodes and leaf nodes. A decision node has two or more branches. Leaf node represents a classification or decision. The topmost decision node in a tree which corresponds to the best predictor called root node. Decision trees can handle both categorical and numerical data."
   ]
  },
  {
   "cell_type": "code",
   "execution_count": 27,
   "metadata": {},
   "outputs": [],
   "source": [
    "# training the model\n",
    "model_2 = DecisionTreeClassifier()\n",
    "model_2.fit(X_train, y_train)\n",
    "\n",
    "# testing the model \n",
    "y_pred = model_2.predict(X_test)\n",
    "\n",
    "# calculate the accuracy on test data\n",
    "accuracy_values.append(round(accuracy_score(y_test, y_pred) * 100, 2))"
   ]
  },
  {
   "cell_type": "markdown",
   "metadata": {},
   "source": [
    "#### Random Forest\n",
    "And the next model that I build is the Random Forest. It is an extension to the decision tree. Random forest builds multiple decision trees each based on a random sample of the training data and merges them together to get a more accurate and stable prediction by means of voting. It can handle thousands of input variables without variable deletion which in our case will also help as we have multiple input attributes."
   ]
  },
  {
   "cell_type": "code",
   "execution_count": 28,
   "metadata": {},
   "outputs": [
    {
     "name": "stderr",
     "output_type": "stream",
     "text": [
      "C:\\Users\\jinme\\anaconda3\\lib\\site-packages\\ipykernel_launcher.py:3: DataConversionWarning: A column-vector y was passed when a 1d array was expected. Please change the shape of y to (n_samples,), for example using ravel().\n",
      "  This is separate from the ipykernel package so we can avoid doing imports until\n"
     ]
    }
   ],
   "source": [
    "# training the model\n",
    "model_3 = RandomForestClassifier()\n",
    "model_3.fit(X_train, y_train)\n",
    "\n",
    "# testing the model \n",
    "y_pred = model_3.predict(X_test)\n",
    "\n",
    "# calculate the accuracy on test data\n",
    "accuracy_values.append(round(accuracy_score(y_test, y_pred) * 100, 2))"
   ]
  },
  {
   "cell_type": "markdown",
   "metadata": {},
   "source": [
    "#### Support Vector Machine\n",
    "And the last model that I build is the Support Vector Machines (SVM). In the SVM algorithm, each data item is plot as a point in n-dimensional space (where n is number of features you have) with the value of each feature being the value of a particular coordinate. Then, perform classification by finding the hyper-plane that differentiates the two classes very well. It works really well with a clear margin of separation. It is effective in high dimensional spaces which in our case will also help as we have multiple input attributes. <br><br> SVM has different types of kernels like linear, rbf and poly. I have used radial basis function (rbf) kernel as our problem is non-linear."
   ]
  },
  {
   "cell_type": "code",
   "execution_count": 29,
   "metadata": {},
   "outputs": [
    {
     "name": "stderr",
     "output_type": "stream",
     "text": [
      "C:\\Users\\jinme\\anaconda3\\lib\\site-packages\\sklearn\\utils\\validation.py:760: DataConversionWarning: A column-vector y was passed when a 1d array was expected. Please change the shape of y to (n_samples, ), for example using ravel().\n",
      "  y = column_or_1d(y, warn=True)\n"
     ]
    }
   ],
   "source": [
    "# training the model\n",
    "model_4 = SVC(kernel = 'rbf')\n",
    "model_4.fit(X_train, y_train)\n",
    "\n",
    "# testing the model \n",
    "y_pred = model_4.predict(X_test)\n",
    "\n",
    "# calculate the accuracy on test data\n",
    "accuracy_values.append(round(accuracy_score(y_test, y_pred) * 100, 2))"
   ]
  },
  {
   "cell_type": "markdown",
   "metadata": {},
   "source": [
    "### Models Evaluation\n",
    "Following evaluation metrics are calculated to evaluate the models: <br>\n",
    "1) Accuracy Score <br>\n",
    "2) Confusion Matrix <br><br>\n",
    "Let's have a look at the results."
   ]
  },
  {
   "cell_type": "code",
   "execution_count": 30,
   "metadata": {},
   "outputs": [
    {
     "data": {
      "image/png": "[encoded data removed]",
      "text/plain": [
       "<Figure size 864x432 with 1 Axes>"
      ]
     },
     "metadata": {
      "needs_background": "light"
     },
     "output_type": "display_data"
    }
   ],
   "source": [
    "# accuracy graph\n",
    "plt.figure(figsize = (12, 6))\n",
    "bars = plt.bar(models, accuracy_values, width = 0.25)\n",
    "plt.title('Models Test Set Accuracy in %')\n",
    "plt.xlabel('Models', fontsize = 14)\n",
    "plt.ylabel('Accuracy', fontsize = 14)\n",
    "plt.ylim(0, 100)\n",
    "\n",
    "for bar, accuracy in zip(bars, accuracy_values):\n",
    "    height = bar.get_height()\n",
    "    plt.text(bar.get_x() + bar.get_width()/2.0, height-4, '%.2f' % float(accuracy), ha = 'center', \n",
    "             color = 'white', va = 'bottom', fontweight = 'bold', fontsize = 12)    \n",
    "plt.show()"
   ]
  },
  {
   "cell_type": "markdown",
   "metadata": {},
   "source": [
    "From the above graph, the Random Forest model has more accuracy than the other 3 models."
   ]
  },
  {
   "cell_type": "code",
   "execution_count": 31,
   "metadata": {},
   "outputs": [
    {
     "data": {
      "image/png": "[encoded data removed]",
      "text/plain": [
       "<Figure size 1152x720 with 8 Axes>"
      ]
     },
     "metadata": {
      "needs_background": "light"
     },
     "output_type": "display_data"
    }
   ],
   "source": [
    "# confusion matrix plot\n",
    " \n",
    "# define the figure and subplots\n",
    "fig, axs = plt.subplots(nrows = 2, ncols = 2)\n",
    "fig.set_size_inches(16, 10, forward = True)\n",
    "plt.subplots_adjust(hspace = 0.3)\n",
    "\n",
    "# labels\n",
    "labels = ['Not Exited', 'Exited']\n",
    "\n",
    "axs[0][0].set_title('Naive Bayes')\n",
    "plot_confusion_matrix(model_1, X_test, y_test, display_labels=labels, values_format='d', cmap=plt.cm.Blues, ax=axs[0][0])\n",
    "\n",
    "axs[0][1].set_title('Decision Tree')\n",
    "plot_confusion_matrix(model_2, X_test, y_test, display_labels=labels, values_format='d', cmap=plt.cm.Blues, ax=axs[0][1])\n",
    "\n",
    "axs[1][0].set_title('Random Forest')\n",
    "plot_confusion_matrix(model_3, X_test, y_test, display_labels=labels, values_format='d', cmap=plt.cm.Blues, ax=axs[1][0])\n",
    "\n",
    "axs[1][1].set_title('SVM')\n",
    "plot_confusion_matrix(model_4, X_test, y_test, display_labels=labels, values_format='d', cmap=plt.cm.Blues, ax=axs[1][1])\n",
    "\n",
    "# display the figure\n",
    "plt.show()"
   ]
  },
  {
   "cell_type": "markdown",
   "metadata": {},
   "source": [
    "Correct classification and misclassification of above models can be described as:\n",
    "- **Naive Bayes:** 2234 'not exited' and 234 'exited' instances are classified correctly whereas 145 'not exited' are wrongly classified as 'exited' and 387 'exited' are wrongly classified as 'not exited'.\n",
    "- **Decision Tree:** 2050 'not exited' and 337 'exited' instances are classified correctly whereas 329 'not exited' are wrongly classified as 'exited' and 284 'exited' are wrongly classified as 'not exited'.\n",
    "- **Random Forest:** 2287 'not exited' and 313 'exited' instances are classified correctly whereas 92 'not exited' are wrongly classified as 'exited' and 308 'exited' are wrongly classified as 'not exited'.\n",
    "- **SVM:** 2313 'not exited' and 275 'exited' instances are classified correctly whereas 66 'not exited' are wrongly classified as 'exited' and 346 'exited' are wrongly classified as 'not exited'."
   ]
  },
  {
   "cell_type": "markdown",
   "metadata": {},
   "source": [
    "So we can see that Random Forest is the model which has more correctly classified the 'not exited' and 'exited' labels overall than all others. And Decision Tree is the model which has more correctly classified the 'exited' label than the others whereas SVM is the model which has more correctly classified the 'not exited' label than all others. <br><br> If our main focus is to identify those customers which have churn then decision tree can be a good choice in that case but if we want to take care for both classes (exited, not exited) then Random Forest would be the model to go with."
   ]
  },
  {
   "cell_type": "markdown",
   "metadata": {},
   "source": [
    "### Conclusion\n",
    "In conclusion, we can say that the models that we have developed are good baseline models to be used for customer churn modeling. We can apply more techniques like feature selection, dimensionality reduction, parameter tuning etc. to increase the performance of the models. In future, I would like to apply deep learning algorithms on this to see the difference between these and deep learning models."
   ]
  }
 ],
 "metadata": {
  "kernelspec": {
   "display_name": "Python 3",
   "language": "python",
   "name": "python3"
  },
  "language_info": {
   "codemirror_mode": {
    "name": "ipython",
    "version": 3
   },
   "file_extension": ".py",
   "mimetype": "text/x-python",
   "name": "python",
   "nbconvert_exporter": "python",
   "pygments_lexer": "ipython3",
   "version": "3.7.6"
  }
 },
 "nbformat": 4,
 "nbformat_minor": 2
}
